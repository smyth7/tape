{
 "cells": [
  {
   "cell_type": "markdown",
   "metadata": {},
   "source": [
    "# Looking at adding_model.py and setup.py\n",
    "\n",
    "setup.py: One entry point is 'tape-embed = tape.main:run_embed' > training.run_embed: \n",
    "\n",
    "```\n",
    "dataset = task_spec.dataset(data_file, tokenizer=tokenizer) > \n",
    "valid_loader = utils.setup_loader(dataset, batch_size, local_rank, n_gpu, 1, num_workers)\n",
    "```\n",
    "\n",
    "Ended up at tape.datasets\n",
    "\n"
   ]
  },
  {
   "cell_type": "code",
   "execution_count": 1,
   "metadata": {},
   "outputs": [
    {
     "output_type": "execute_result",
     "data": {
      "text/plain": "<function tape.datasets.dataset_factory(data_file: Union[str, pathlib.Path], *args, **kwargs) -> torch.utils.data.dataset.Dataset>"
     },
     "metadata": {},
     "execution_count": 1
    }
   ],
   "source": [
    "from tape import datasets\n",
    "datasets.dataset_factory"
   ]
  },
  {
   "cell_type": "code",
   "execution_count": 2,
   "metadata": {},
   "outputs": [],
   "source": [
    "sprot = datasets.dataset_factory(data_file='../data/uniprot_sprot.fasta')"
   ]
  },
  {
   "cell_type": "code",
   "execution_count": 3,
   "metadata": {},
   "outputs": [
    {
     "output_type": "execute_result",
     "data": {
      "text/plain": "{'id': 'sp|Q6GZX3|002L_FRG3G',\n 'primary': 'MSIIGATRLQNDKSDTYSAGPCYAGGCSAFTPRGTCGKDWDLGEQTCASGFCTSQPLCARIKKTQVCGLRYSSKGKDPLVSAEWDSRGAPYVRCTYDADLIDTQAQVDQFVSMFGESPSLAERYCMRGVKNTAGELVSRVSSDADPAGGWCRKWYSAHRGPDQDAALGSFCIKNPGAADCKCINRASDPVYQKVKTLHAYPDQCWYVPCAADVGELKMGTQRDTPTNCPTQVCQIVFNMLDDGSVTMDDVKNTINCDFSKYVPPPPPPKPTPPTPPTPPTPPTPPTPPTPPTPRPVHNRKVMFFVAGAVLVAILISTVRW',\n 'protein_length': 320}"
     },
     "metadata": {},
     "execution_count": 3
    }
   ],
   "source": [
    "sprot[1]"
   ]
  },
  {
   "cell_type": "code",
   "execution_count": null,
   "metadata": {},
   "outputs": [],
   "source": []
  }
 ],
 "metadata": {
  "language_info": {
   "codemirror_mode": {
    "name": "ipython",
    "version": 3
   },
   "file_extension": ".py",
   "mimetype": "text/x-python",
   "name": "python",
   "nbconvert_exporter": "python",
   "pygments_lexer": "ipython3",
   "version": "3.7.7-final"
  },
  "orig_nbformat": 2,
  "kernelspec": {
   "name": "python37764bittapeconda899adf3d7264499bab1aac0192c5e209",
   "display_name": "Python 3.7.7 64-bit ('tape': conda)"
  }
 },
 "nbformat": 4,
 "nbformat_minor": 2
}